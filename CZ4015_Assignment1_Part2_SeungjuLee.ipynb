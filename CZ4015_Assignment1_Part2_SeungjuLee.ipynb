{
 "cells": [
  {
   "cell_type": "markdown",
   "metadata": {},
   "source": [
    "# CZ4015 LAB Assignment 1 Part 2 - Seungju Lee (N1904291J)"
   ]
  },
  {
   "cell_type": "markdown",
   "metadata": {},
   "source": [
    "## 1. Input Analysis"
   ]
  },
  {
   "cell_type": "markdown",
   "metadata": {},
   "source": [
    "Before the simulation, input analysis should be done. Therefore, by using data from the given excel file, I tried to find out distributions and their own parameter values of interarrival time, base station, call duration, and velocity."
   ]
  },
  {
   "cell_type": "code",
   "execution_count": 1,
   "metadata": {},
   "outputs": [],
   "source": [
    "import pandas as pd\n",
    "import numpy as np\n",
    "import matplotlib.pyplot as plt\n",
    "from scipy import stats"
   ]
  },
  {
   "cell_type": "code",
   "execution_count": 2,
   "metadata": {},
   "outputs": [],
   "source": [
    "given_data = pd.read_excel(\"PCS_TEST_DETERMINSTIC_19S2.xls\", index_col='Arrival no')"
   ]
  },
  {
   "cell_type": "code",
   "execution_count": 3,
   "metadata": {
    "scrolled": true
   },
   "outputs": [
    {
     "data": {
      "text/html": [
       "<div>\n",
       "<style scoped>\n",
       "    .dataframe tbody tr th:only-of-type {\n",
       "        vertical-align: middle;\n",
       "    }\n",
       "\n",
       "    .dataframe tbody tr th {\n",
       "        vertical-align: top;\n",
       "    }\n",
       "\n",
       "    .dataframe thead th {\n",
       "        text-align: right;\n",
       "    }\n",
       "</style>\n",
       "<table border=\"1\" class=\"dataframe\">\n",
       "  <thead>\n",
       "    <tr style=\"text-align: right;\">\n",
       "      <th></th>\n",
       "      <th>Arrival time (sec)</th>\n",
       "      <th>Base station</th>\n",
       "      <th>Call duration (sec)</th>\n",
       "      <th>velocity (km/h)</th>\n",
       "    </tr>\n",
       "    <tr>\n",
       "      <th>Arrival no</th>\n",
       "      <th></th>\n",
       "      <th></th>\n",
       "      <th></th>\n",
       "      <th></th>\n",
       "    </tr>\n",
       "  </thead>\n",
       "  <tbody>\n",
       "    <tr>\n",
       "      <th>1</th>\n",
       "      <td>0.000000</td>\n",
       "      <td>18</td>\n",
       "      <td>76.133611</td>\n",
       "      <td>125.934254</td>\n",
       "    </tr>\n",
       "    <tr>\n",
       "      <th>2</th>\n",
       "      <td>0.067744</td>\n",
       "      <td>7</td>\n",
       "      <td>159.056244</td>\n",
       "      <td>95.510881</td>\n",
       "    </tr>\n",
       "    <tr>\n",
       "      <th>3</th>\n",
       "      <td>0.559184</td>\n",
       "      <td>6</td>\n",
       "      <td>179.465053</td>\n",
       "      <td>127.757456</td>\n",
       "    </tr>\n",
       "    <tr>\n",
       "      <th>4</th>\n",
       "      <td>0.625319</td>\n",
       "      <td>14</td>\n",
       "      <td>163.108320</td>\n",
       "      <td>134.310552</td>\n",
       "    </tr>\n",
       "    <tr>\n",
       "      <th>5</th>\n",
       "      <td>1.345066</td>\n",
       "      <td>2</td>\n",
       "      <td>95.054472</td>\n",
       "      <td>112.272359</td>\n",
       "    </tr>\n",
       "    <tr>\n",
       "      <th>...</th>\n",
       "      <td>...</td>\n",
       "      <td>...</td>\n",
       "      <td>...</td>\n",
       "      <td>...</td>\n",
       "    </tr>\n",
       "    <tr>\n",
       "      <th>9996</th>\n",
       "      <td>13692.269647</td>\n",
       "      <td>4</td>\n",
       "      <td>116.119337</td>\n",
       "      <td>119.601001</td>\n",
       "    </tr>\n",
       "    <tr>\n",
       "      <th>9997</th>\n",
       "      <td>13692.593630</td>\n",
       "      <td>16</td>\n",
       "      <td>37.970440</td>\n",
       "      <td>114.278648</td>\n",
       "    </tr>\n",
       "    <tr>\n",
       "      <th>9998</th>\n",
       "      <td>13694.615122</td>\n",
       "      <td>3</td>\n",
       "      <td>31.919218</td>\n",
       "      <td>123.540944</td>\n",
       "    </tr>\n",
       "    <tr>\n",
       "      <th>9999</th>\n",
       "      <td>13695.404091</td>\n",
       "      <td>12</td>\n",
       "      <td>386.621127</td>\n",
       "      <td>123.507947</td>\n",
       "    </tr>\n",
       "    <tr>\n",
       "      <th>10000</th>\n",
       "      <td>13696.799448</td>\n",
       "      <td>7</td>\n",
       "      <td>167.610575</td>\n",
       "      <td>122.363562</td>\n",
       "    </tr>\n",
       "  </tbody>\n",
       "</table>\n",
       "<p>10000 rows × 4 columns</p>\n",
       "</div>"
      ],
      "text/plain": [
       "            Arrival time (sec)  Base station   Call duration (sec)  \\\n",
       "Arrival no                                                           \n",
       "1                     0.000000             18            76.133611   \n",
       "2                     0.067744              7           159.056244   \n",
       "3                     0.559184              6           179.465053   \n",
       "4                     0.625319             14           163.108320   \n",
       "5                     1.345066              2            95.054472   \n",
       "...                        ...            ...                  ...   \n",
       "9996              13692.269647              4           116.119337   \n",
       "9997              13692.593630             16            37.970440   \n",
       "9998              13694.615122              3            31.919218   \n",
       "9999              13695.404091             12           386.621127   \n",
       "10000             13696.799448              7           167.610575   \n",
       "\n",
       "            velocity (km/h)  \n",
       "Arrival no                   \n",
       "1                125.934254  \n",
       "2                 95.510881  \n",
       "3                127.757456  \n",
       "4                134.310552  \n",
       "5                112.272359  \n",
       "...                     ...  \n",
       "9996             119.601001  \n",
       "9997             114.278648  \n",
       "9998             123.540944  \n",
       "9999             123.507947  \n",
       "10000            122.363562  \n",
       "\n",
       "[10000 rows x 4 columns]"
      ]
     },
     "execution_count": 3,
     "metadata": {},
     "output_type": "execute_result"
    }
   ],
   "source": [
    "given_data"
   ]
  },
  {
   "cell_type": "code",
   "execution_count": 4,
   "metadata": {},
   "outputs": [
    {
     "data": {
      "image/png": "[encoded data removed]",
      "text/plain": [
       "<Figure size 432x288 with 1 Axes>"
      ]
     },
     "metadata": {
      "needs_background": "light"
     },
     "output_type": "display_data"
    }
   ],
   "source": [
    "int_ar = np.diff(given_data['Arrival time (sec)'])\n",
    "plt.hist(int_ar, bins = int(np.sqrt(len(given_data.index))))\n",
    "plt.xlabel('Interarrival time(sec)')\n",
    "plt.ylabel('Frequency')\n",
    "plt.show()"
   ]
  },
  {
   "cell_type": "markdown",
   "metadata": {},
   "source": [
    "The histogram of interarrival time looks similar to the probability density function of an exponential distribution.\n",
    "Therefore, I hypothesize the data has an exponential distribution."
   ]
  },
  {
   "cell_type": "code",
   "execution_count": 5,
   "metadata": {},
   "outputs": [
    {
     "data": {
      "text/plain": [
       "1.3698169264765245"
      ]
     },
     "execution_count": 5,
     "metadata": {},
     "output_type": "execute_result"
    }
   ],
   "source": [
    "# Estimation of parameter(MLE)\n",
    "int_ar_param = np.mean(int_ar)\n",
    "int_ar_param"
   ]
  },
  {
   "cell_type": "markdown",
   "metadata": {},
   "source": [
    "Then, it is necessary to verify that this hypothesis(Interarrival time follows exponential distribution with parameter int_ar_param) agree with the observed data. So, I conducted a chi-square test."
   ]
  },
  {
   "cell_type": "code",
   "execution_count": 6,
   "metadata": {},
   "outputs": [
    {
     "name": "stdout",
     "output_type": "stream",
     "text": [
      "Test statistic: 111.64999999999999\n",
      "Critical value with alpha=0.05: 122.10773460981942\n",
      "The null hypothesis cannot be rejected. Use exponential distribution with current parameter!\n"
     ]
    }
   ],
   "source": [
    "intervals = []\n",
    "k = int(np.sqrt(len(given_data.index)))\n",
    "p = 1/k\n",
    "for i in range(k):\n",
    "    intervals.append(int_ar_param * np.log(1/(1-i*p)))\n",
    "\n",
    "N = [0]*k\n",
    "\n",
    "for element in int_ar:\n",
    "    if element >= intervals[k-1]:\n",
    "        N[k-1] += 1\n",
    "    else:\n",
    "        for j in range(k-1):\n",
    "            if element >= intervals[j] and element < intervals[j+1]:\n",
    "                N[j] += 1\n",
    "\n",
    "expected = p * len(given_data.index)\n",
    "stat = 0\n",
    "for i in range(k):\n",
    "    stat += ((N[i] - expected)**2) / expected # final \"stat\" would be test statistic\n",
    "\n",
    "print(\"Test statistic: {}\".format(stat))\n",
    "print(\"Critical value with alpha=0.05: {}\".format(stats.chi2.ppf(0.95, 100-1-1)))\n",
    "if stat > stats.chi2.ppf(0.95,100-1-1):\n",
    "    print(\"The null hypothesis rejected. Do not use exponential distribution with current parameter!\")\n",
    "else:\n",
    "    print(\"The null hypothesis cannot be rejected. Use exponential distribution with current parameter!\")"
   ]
  },
  {
   "cell_type": "code",
   "execution_count": 7,
   "metadata": {},
   "outputs": [
    {
     "data": {
      "image/png": "[encoded data removed]",
      "text/plain": [
       "<Figure size 432x288 with 1 Axes>"
      ]
     },
     "metadata": {
      "needs_background": "light"
     },
     "output_type": "display_data"
    }
   ],
   "source": [
    "plt.hist(given_data['Base station '], bins=20)\n",
    "plt.xlabel('Base station')\n",
    "plt.ylabel('Frequency')\n",
    "plt.show()"
   ]
  },
  {
   "cell_type": "markdown",
   "metadata": {},
   "source": [
    "The histogram of base station distribution looks like it has uniform distribution. Therefore, I hypothesize the data is uniformly distributed among integer values from 1 to 20. I conducted a chi-square test to check the goodness of fit."
   ]
  },
  {
   "cell_type": "code",
   "execution_count": 8,
   "metadata": {},
   "outputs": [
    {
     "name": "stdout",
     "output_type": "stream",
     "text": [
      "Test statistic: 25.656\n",
      "Critical value with alpha=0.05: 30.14352720564616\n",
      "The null hypothesis cannot be rejected. Use uniform distribution!\n"
     ]
    }
   ],
   "source": [
    "N = [0]*20\n",
    "\n",
    "for element in given_data['Base station ']:\n",
    "    for i in range(20):\n",
    "        if element == i+1:\n",
    "            N[i] += 1\n",
    "\n",
    "expected = len(given_data.index) / 20\n",
    "stat = 0\n",
    "for i in range(20):\n",
    "    stat += ((N[i] - expected)**2) / expected # final \"stat\" would be test statistic\n",
    "\n",
    "print(\"Test statistic: {}\".format(stat))\n",
    "print(\"Critical value with alpha=0.05: {}\".format(stats.chi2.ppf(0.95, 20-1)))\n",
    "if stat > stats.chi2.ppf(0.95,20-1):\n",
    "    print(\"The null hypothesis rejected. Do not use uniform distribution!\")\n",
    "else:\n",
    "    print(\"The null hypothesis cannot be rejected. Use uniform distribution!\")"
   ]
  },
  {
   "cell_type": "code",
   "execution_count": 9,
   "metadata": {},
   "outputs": [
    {
     "data": {
      "image/png": "[encoded data removed]",
      "text/plain": [
       "<Figure size 432x288 with 1 Axes>"
      ]
     },
     "metadata": {
      "needs_background": "light"
     },
     "output_type": "display_data"
    }
   ],
   "source": [
    "plt.hist(given_data['Call duration (sec)'], bins = int(np.sqrt(len(given_data.index))))\n",
    "plt.xlabel('Call duration(sec)')\n",
    "plt.ylabel('Frequency')\n",
    "plt.show()"
   ]
  },
  {
   "cell_type": "markdown",
   "metadata": {},
   "source": [
    "There is a slight gap between the minimum value of call duration and 0."
   ]
  },
  {
   "cell_type": "code",
   "execution_count": 10,
   "metadata": {},
   "outputs": [
    {
     "data": {
      "text/plain": [
       "10.003951603252272"
      ]
     },
     "execution_count": 10,
     "metadata": {},
     "output_type": "execute_result"
    }
   ],
   "source": [
    "gap = min(given_data['Call duration (sec)'])\n",
    "gap"
   ]
  },
  {
   "cell_type": "code",
   "execution_count": 11,
   "metadata": {},
   "outputs": [
    {
     "data": {
      "image/png": "[encoded data removed]",
      "text/plain": [
       "<Figure size 432x288 with 1 Axes>"
      ]
     },
     "metadata": {
      "needs_background": "light"
     },
     "output_type": "display_data"
    }
   ],
   "source": [
    "plt.hist((given_data['Call duration (sec)']-gap), bins = int(np.sqrt(len(given_data.index))))\n",
    "plt.xlabel('Call duration(sec)')\n",
    "plt.ylabel('Frequency')\n",
    "plt.show()"
   ]
  },
  {
   "cell_type": "markdown",
   "metadata": {},
   "source": [
    "The histogram of (duration-gap) looks similar to the probability density function of an exponential distribution.\n",
    "Therefore, I hypothesize the data(duration - gap) has an exponential distribution."
   ]
  },
  {
   "cell_type": "code",
   "execution_count": 12,
   "metadata": {},
   "outputs": [
    {
     "data": {
      "text/plain": [
       "99.83194913549607"
      ]
     },
     "execution_count": 12,
     "metadata": {},
     "output_type": "execute_result"
    }
   ],
   "source": [
    "# Estimation of parameter(MLE)\n",
    "duration_param = (given_data['Call duration (sec)']-gap).mean()\n",
    "duration_param"
   ]
  },
  {
   "cell_type": "markdown",
   "metadata": {},
   "source": [
    "To check the goodness of fit, I conducted a chi-square test with duration parameter."
   ]
  },
  {
   "cell_type": "code",
   "execution_count": 13,
   "metadata": {},
   "outputs": [
    {
     "name": "stdout",
     "output_type": "stream",
     "text": [
      "Test statistic: 97.01999999999998\n",
      "Critical value with alpha=0.05: 122.10773460981942\n",
      "The null hypothesis cannot be rejected. Use exponential distribution with current parameter!\n"
     ]
    }
   ],
   "source": [
    "intervals = []\n",
    "k = int(np.sqrt(len(given_data.index)))\n",
    "p = 1/k\n",
    "for i in range(k):\n",
    "    intervals.append(duration_param * np.log(1/(1-i*p)))\n",
    "\n",
    "N = [0]*k\n",
    "\n",
    "for element in given_data['Call duration (sec)']:\n",
    "    if (element-gap) >= intervals[k-1]:\n",
    "        N[k-1] += 1\n",
    "    else:\n",
    "        for j in range(k-1):\n",
    "            if (element-gap) >= intervals[j] and (element-gap) < intervals[j+1]:\n",
    "                N[j] += 1\n",
    "\n",
    "expected = p * len(given_data.index)\n",
    "stat = 0\n",
    "for i in range(k):\n",
    "    stat += ((N[i] - expected)**2) / expected # final \"stat\" would be test statistic\n",
    "\n",
    "print(\"Test statistic: {}\".format(stat))\n",
    "print(\"Critical value with alpha=0.05: {}\".format(stats.chi2.ppf(0.95, 100-1-1)))\n",
    "if stat > stats.chi2.ppf(0.95,100-1-1):\n",
    "    print(\"The null hypothesis rejected. Do not use exponential distribution with current parameter!\")\n",
    "else:\n",
    "    print(\"The null hypothesis cannot be rejected. Use exponential distribution with current parameter!\")"
   ]
  },
  {
   "cell_type": "code",
   "execution_count": 14,
   "metadata": {},
   "outputs": [
    {
     "data": {
      "image/png": "[encoded data removed]",
      "text/plain": [
       "<Figure size 432x288 with 1 Axes>"
      ]
     },
     "metadata": {
      "needs_background": "light"
     },
     "output_type": "display_data"
    }
   ],
   "source": [
    "plt.hist(given_data['velocity (km/h)'], bins = int(np.sqrt(len(given_data.index))))\n",
    "plt.xlabel('Velocity (km/h)')\n",
    "plt.ylabel('Frequency')\n",
    "plt.show()"
   ]
  },
  {
   "cell_type": "markdown",
   "metadata": {},
   "source": [
    "The histogram of velocity looks similar to the probability density function of a normal distribution.\n",
    "Therefore, I hypothesize the data has a normal distribution."
   ]
  },
  {
   "cell_type": "code",
   "execution_count": 15,
   "metadata": {},
   "outputs": [
    {
     "name": "stdout",
     "output_type": "stream",
     "text": [
      "120.07209801685805\n",
      "9.01905789789691\n"
     ]
    }
   ],
   "source": [
    "# Estimation of parameter(MLE)\n",
    "velocity_mean = given_data['velocity (km/h)'].mean()\n",
    "velocity_std = given_data['velocity (km/h)'].std()\n",
    "print(velocity_mean)\n",
    "print(velocity_std)"
   ]
  },
  {
   "cell_type": "markdown",
   "metadata": {},
   "source": [
    "To check the goodness-of-fit, I conducted a normality test using inbuilt method in scipy.stats from python."
   ]
  },
  {
   "cell_type": "code",
   "execution_count": 16,
   "metadata": {},
   "outputs": [
    {
     "name": "stdout",
     "output_type": "stream",
     "text": [
      "The null hypothesis cannot be rejected. Use normal distribution with current parameter!\n"
     ]
    }
   ],
   "source": [
    "statistic, p_value = stats.normaltest(given_data['velocity (km/h)'])\n",
    "if p_value < 0.001:\n",
    "    print(\"The null hypothesis rejected. Do not use normal distribution with current parameter!\")\n",
    "else:\n",
    "    print(\"The null hypothesis cannot be rejected. Use normal distribution with current parameter!\")        "
   ]
  },
  {
   "cell_type": "markdown",
   "metadata": {},
   "source": [
    "## 2. Basic settings for the simulation model"
   ]
  },
  {
   "cell_type": "markdown",
   "metadata": {},
   "source": [
    "### 2-1. Enums\n",
    "\n",
    "Use inbuilt Enum method to build a class with different types"
   ]
  },
  {
   "cell_type": "code",
   "execution_count": 17,
   "metadata": {},
   "outputs": [],
   "source": [
    "from enum import Enum, auto\n",
    "\n",
    "class Event_type(Enum):\n",
    "    CALL_INITIATION = auto()\n",
    "    CALL_TERMINATION = auto()\n",
    "    CALL_HANDOVER = auto()\n",
    "    \n",
    "class FCA_scheme(Enum):\n",
    "    NO_RESERVATION = auto()\n",
    "    ONE_RESERVATION = auto()\n",
    "    TWO_RESERVATION = auto() # to check the situation reserving two channels\n",
    "    THREE_RESERVATION = auto() # to check the situation reserving three channels\n",
    "\n",
    "class Direction(Enum):\n",
    "    TO_TWENTY = auto()\n",
    "    TO_ONE = auto()"
   ]
  },
  {
   "cell_type": "markdown",
   "metadata": {},
   "source": [
    "### 2-2. Station\n",
    "Build a Station class with parameter: index of the station, number of channnels, number of reserved channels\n",
    "The actual index of stations are 1 to 20, but I used index from the 0-19.\n",
    "So, the station 2 from the actual world has index 1 in simulation model."
   ]
  },
  {
   "cell_type": "code",
   "execution_count": 18,
   "metadata": {},
   "outputs": [],
   "source": [
    "class Station:\n",
    "    def __init__(self, station, channels, reserved_channels):\n",
    "        self.station = station\n",
    "        self.channels = channels\n",
    "        self.reserved_channels = reserved_channels\n",
    "    \n",
    "    # take one channel from the station and use it for the event\n",
    "    def use_channel(self):\n",
    "        self.channels -= 1\n",
    "    \n",
    "    # release the used channel after the end of the event\n",
    "    def release_channel(self):\n",
    "        self.channels += 1\n",
    "    \n",
    "    # boolean function that shows whether the call initiation could take place\n",
    "    def free_channel_available(self):\n",
    "        return self.channels - self.reserved_channels > 0\n",
    "    \n",
    "    # boolean function that shows whether the call handover could take place\n",
    "    def every_channel_available(self):\n",
    "        return self.channels > 0"
   ]
  },
  {
   "cell_type": "markdown",
   "metadata": {},
   "source": [
    "### 2-3. Events\n",
    "Build Event class firstly with instance variables of event type and event time. This Event class works as a base for three different types of events."
   ]
  },
  {
   "cell_type": "code",
   "execution_count": 19,
   "metadata": {},
   "outputs": [],
   "source": [
    "class Event:\n",
    "    def __init__(self, event_type, time):\n",
    "        self.event_type = event_type\n",
    "        self.time = time"
   ]
  },
  {
   "cell_type": "markdown",
   "metadata": {},
   "source": [
    "Building classes for the three types of events are done in same way. Each class gets the event's type from the base Event class. Instance variable \"time\" matches the base Event class and specific event class. Each class has different instance variables and this follows the problem description."
   ]
  },
  {
   "cell_type": "code",
   "execution_count": 20,
   "metadata": {},
   "outputs": [],
   "source": [
    "class Call_Initiation(Event):\n",
    "    def __init__(self, time, speed, station, position, duration, direction):\n",
    "        Event.__init__(self, Event_type.CALL_INITIATION, time)\n",
    "        self.speed = speed\n",
    "        self.station = station\n",
    "        self.position = position\n",
    "        self.duration = duration\n",
    "        self.direction = direction"
   ]
  },
  {
   "cell_type": "code",
   "execution_count": 21,
   "metadata": {},
   "outputs": [],
   "source": [
    "class Call_Termination(Event):\n",
    "    def __init__(self, time, station):\n",
    "        Event.__init__(self, Event_type.CALL_TERMINATION, time)\n",
    "        self.station = station"
   ]
  },
  {
   "cell_type": "code",
   "execution_count": 22,
   "metadata": {},
   "outputs": [],
   "source": [
    "class Call_Handover(Event):\n",
    "    def __init__(self, time, speed, station, duration, direction):\n",
    "        Event.__init__(self, Event_type.CALL_HANDOVER, time)\n",
    "        self.speed = speed\n",
    "        self.station = station\n",
    "        self.duration = duration\n",
    "        self.direction = direction"
   ]
  },
  {
   "cell_type": "markdown",
   "metadata": {},
   "source": [
    "## 3. Random Number Generator"
   ]
  },
  {
   "cell_type": "markdown",
   "metadata": {},
   "source": [
    "### 3-1. Basic Functions"
   ]
  },
  {
   "cell_type": "code",
   "execution_count": 23,
   "metadata": {},
   "outputs": [],
   "source": [
    "# Random number generating function from exponential distribution\n",
    "def random_exponential(beta):\n",
    "    U = np.random.random()\n",
    "    random_number = (-beta) * np.log(1-U)\n",
    "    return random_number\n",
    "\n",
    "# Random (integer) number generating function from uniform distribution\n",
    "def random_uniform(lower, upper):\n",
    "    U = np.random.random()\n",
    "    random_number = int ((upper + 1 - lower) * U + lower)\n",
    "    return random_number\n",
    "\n",
    "# Random number generating function from normal distribution\n",
    "def random_normal(mean, std):\n",
    "    temp = 0\n",
    "    for i in range(12):\n",
    "        U = np.random.random()\n",
    "        temp += U\n",
    "    z = temp - 6\n",
    "    random_number = z * std + mean\n",
    "    return random_number"
   ]
  },
  {
   "cell_type": "markdown",
   "metadata": {},
   "source": [
    "### 3-2 Random Number Generator for the simulation model\n",
    "Functions to get random variates for each variables in event."
   ]
  },
  {
   "cell_type": "code",
   "execution_count": 24,
   "metadata": {},
   "outputs": [],
   "source": [
    "def get_random_interarrival():\n",
    "    return random_exponential(int_ar_param)\n",
    "\n",
    "def get_random_basestation():\n",
    "    return random_uniform(0,20-1)\n",
    "\n",
    "# get a random value from exponential distribution with duration parameter then add gap value\n",
    "def get_random_duration():\n",
    "    return random_exponential(duration_param) + gap\n",
    "\n",
    "def get_random_velocity():\n",
    "    return random_normal(velocity_mean, velocity_std)\n",
    "\n",
    "# follows the Assumption (a) in problem description\n",
    "def get_random_direction():\n",
    "    U = np.random.random()\n",
    "    if U >= 0.5:\n",
    "        direction = Direction.TO_TWENTY\n",
    "    else:\n",
    "        direction = Direction.TO_ONE\n",
    "    return direction\n",
    "\n",
    "# follows the Assumption (c) in problem description\n",
    "def get_random_position():\n",
    "    U = np.random.random()\n",
    "    position = 2 * U\n",
    "    return position"
   ]
  },
  {
   "cell_type": "markdown",
   "metadata": {},
   "source": [
    "## 4. Simulation Model"
   ]
  },
  {
   "cell_type": "markdown",
   "metadata": {},
   "source": [
    "I built a Simulator class for the simulation model. All the necessary functions and variables for the simuluation are made and stored in this class."
   ]
  },
  {
   "cell_type": "code",
   "execution_count": 25,
   "metadata": {},
   "outputs": [],
   "source": [
    "class Simulator:\n",
    "    def __init__(self, scheme, total_calls, warm_up_period):\n",
    "        # initialization step(similar to the main function in other programming language)\n",
    "        self.scheme = scheme\n",
    "        self.total_calls = total_calls\n",
    "        self.warm_up_period = warm_up_period\n",
    "    \n",
    "        # Variables for the stats\n",
    "        self.blocked_calls = 0         # for blocked calls rate\n",
    "        self.new_calls = 0             # calculate the number of new calls after the warm up period\n",
    "        self.dropped_calls = 0         # for dropped calls rate\n",
    "        self.count_generated_calls = 0            # for ending condition of the simulation\n",
    "        \n",
    "        # Initialize the simulation clock\n",
    "        self.clock = 0\n",
    "        \n",
    "        # initializing 20 stations with Station() class\n",
    "        self.stations = [None] * 20\n",
    "        for i in range(20):\n",
    "            # different number of reserved channels for each FCA scheme\n",
    "            if self.scheme == FCA_scheme.NO_RESERVATION:\n",
    "                self.stations[i] = Station(station = i, channels = 10, reserved_channels = 0)\n",
    "            elif self.scheme == FCA_scheme.ONE_RESERVATION:\n",
    "                self.stations[i] = Station(station = i, channels = 10, reserved_channels = 1)\n",
    "            elif self.scheme == FCA_scheme.TWO_RESERVATION:\n",
    "                self.stations[i] = Station(station = i, channels = 10, reserved_channels = 2)\n",
    "            elif self.scheme == FCA_scheme.THREE_RESERVATION:\n",
    "                self.stations[i] = Station(station = i, channels = 10, reserved_channels = 3)\n",
    "            \n",
    "\n",
    "        \n",
    "        # initialize future event list\n",
    "        self.event_list = []\n",
    "        \n",
    "        # generate first call initiation event in initializing step\n",
    "        first_call = Call_Initiation(time = 0, speed = get_random_velocity(),\n",
    "                                     station = get_random_basestation(), position = get_random_position(),\n",
    "                                     duration = get_random_duration(), direction = get_random_direction())\n",
    "        \n",
    "        # insert the generated first event into the future event list\n",
    "        self.event_list.append(first_call)\n",
    "        \n",
    "    # function to handle the call initiation event    \n",
    "    def handle_initiation(self, event):\n",
    "\n",
    "        # calculate the number of new calls after the warm up period\n",
    "        if self.clock > self.warm_up_period:\n",
    "            self.new_calls += 1\n",
    "                \n",
    "        # check whether there is free channel to initiate the call\n",
    "        if self.stations[event.station].free_channel_available():\n",
    "\n",
    "            # use one channel in the base station\n",
    "            self.stations[event.station].use_channel()\n",
    "\n",
    "            # remaining distance, time spent in the cell, index of the next station is different by the direction\n",
    "            if event.direction == Direction.TO_TWENTY:\n",
    "                remaining_distance = 2 - event.position\n",
    "                time_in_cell = (remaining_distance / event.speed) * 3600 # speed is given as km/h so need to change into km/s\n",
    "                next_station = event.station + 1\n",
    "            else:\n",
    "                remaining_distance = event.position\n",
    "                time_in_cell = (remaining_distance / event.speed ) * 3600\n",
    "                next_station = event.station - 1\n",
    "\n",
    "            # boolean variable to determine the next event\n",
    "            call_ends_here = event.duration < time_in_cell\n",
    "            \n",
    "            # check the condition to decide the type, variable of next event            \n",
    "            if call_ends_here:            \n",
    "                # if call ends in this station, call should be terminated in this station after its duration            \n",
    "                new_event = Call_Termination(self.clock + event.duration, event.station)\n",
    "            elif next_station < 0 or next_station > 20-1:\n",
    "                # if the base station is the very start or end of the highway, channel should be released after time in cell \n",
    "                new_event = Call_Termination(self.clock + time_in_cell, event.station)\n",
    "            else:\n",
    "                # generate new call handover event with updated time and duration\n",
    "                new_event = Call_Handover(self.clock + time_in_cell, event.speed, event.station, \n",
    "                                          event.duration - time_in_cell, event.direction)\n",
    "            \n",
    "            # insert the generated event(new event) into the future event list \n",
    "            self.insert_event(new_event)\n",
    "           \n",
    "        # if there is no free channel for call initiation and the event time is after the warm up period, the call is blocked\n",
    "        elif self.clock > self.warm_up_period:\n",
    "            # collect stats to calculate blocked rate\n",
    "            self.blocked_calls += 1\n",
    "    \n",
    "    # function to handle the call termination event\n",
    "    def handle_termination(self, event):\n",
    "        \n",
    "        # release the used channel in the event's station\n",
    "        self.stations[event.station].release_channel()\n",
    "    \n",
    "    \n",
    "    # function to handle the call handover event\n",
    "    def handle_handover(self, event):\n",
    "        \n",
    "        # release the used channel from the event's current station\n",
    "        self.stations[event.station].release_channel()\n",
    "    \n",
    "        # update the event's station to the next station(determined by the event's direction)\n",
    "        if event.direction == Direction.TO_TWENTY:\n",
    "            event.station += 1\n",
    "        else:\n",
    "            event.station -= 1\n",
    "            \n",
    "        # check whether there is an available channel for handover\n",
    "        if self.stations[event.station].every_channel_available():\n",
    "            \n",
    "            # use one channel in the station\n",
    "            self.stations[event.station].use_channel()\n",
    "\n",
    "            # remaining distance is the cell's diameter\n",
    "            remaining_distance = 2\n",
    "            \n",
    "            # speed is given as km/h so need to change into km/s\n",
    "            time_in_cell = (remaining_distance / event.speed) * 3600\n",
    "\n",
    "            # boolean variable to determine the next event\n",
    "            call_ends_here = event.duration < time_in_cell\n",
    "\n",
    "            # check the index of next station(determined by the direction)\n",
    "            if event.direction == Direction.TO_TWENTY:\n",
    "                next_station = event.station + 1\n",
    "            else:\n",
    "                next_station = event.station - 1\n",
    "            \n",
    "            # check condition to decide the type of next event(similar process to the call initiation event handling)\n",
    "            if call_ends_here:\n",
    "                # generate new call termination event after the call's remaining duration\n",
    "                new_event = Call_Termination(self.clock + event.duration, event.station)\n",
    "            elif next_station < 0 or next_station > 20-1:\n",
    "                # if the current station is the very start or end of the highway, channel should be released after time in cell\n",
    "                new_event = Call_Termination(self.clock + time_in_cell, event.station)\n",
    "            else:\n",
    "                # generate new call handover event with updated time, duration\n",
    "                new_event = Call_Handover(self.clock + time_in_cell, event.speed, event.station, \n",
    "                                          event.duration - time_in_cell, event.direction)\n",
    "                \n",
    "            # insert the generated event into the future event list\n",
    "            self.insert_event(new_event)\n",
    "\n",
    "        # if there is no available channel for handover and the event time is after the warm up period, the call is dropped        \n",
    "        elif self.clock > self.warm_up_period:\n",
    "            self.dropped_calls += 1\n",
    "    \n",
    "    # function to extract the event from future event list and handle the event        \n",
    "    def handle_event(self):\n",
    "        \n",
    "        # get the event in the very first of future event list(sorted)\n",
    "        event = self.event_list.pop(0)\n",
    "        \n",
    "        # set simulation clock to the event's time\n",
    "        self.clock = event.time\n",
    "\n",
    "        # based on the event's type use different event handling function(routine)\n",
    "        if event.event_type == Event_type.CALL_INITIATION:\n",
    "            self.handle_initiation(event)            \n",
    "            # for the ending condition of the simulation(stop when certain number of calls are initiated)\n",
    "            self.count_generated_calls += 1\n",
    "        elif event.event_type == Event_type.CALL_TERMINATION:\n",
    "            self.handle_termination(event)\n",
    "        else:\n",
    "            self.handle_handover(event)\n",
    "\n",
    "\n",
    "    # end simulation until the future event list is empty or certain number of calls are initiated\n",
    "    def ending_condition(self):\n",
    "        return len(self.event_list) == 0  or self.count_generated_calls == self.total_calls\n",
    "    \n",
    "    \n",
    "    # use binary insertion sort to insert the event into the future event list(for time complexity)        \n",
    "    def insert_event(self, event):\n",
    "        \n",
    "        l = 0\n",
    "        r = len(self.event_list) - 1\n",
    "        \n",
    "        while l <= r:\n",
    "            mid = l + (r - l) // 2\n",
    "            mid_time = self.event_list[mid].time\n",
    "            \n",
    "            if mid_time == event.time:\n",
    "                self.event_list.insert(mid,event)\n",
    "                return \n",
    "            elif mid_time < event.time:\n",
    "                l = mid + 1\n",
    "            else:\n",
    "                r = mid - 1\n",
    "        self.event_list.insert(l,event)\n",
    "\n",
    "    # generate certain number of new calls for the simulation and insert them into the future event list\n",
    "    def generate_new_calls(self):\n",
    "        for i in range(self.total_calls - 1):\n",
    "            new_event = Call_Initiation(time = self.clock + get_random_interarrival(), speed = get_random_velocity(),\n",
    "                                        station = get_random_basestation(), position = get_random_position(),\n",
    "                                        duration = get_random_duration(), direction = get_random_direction())\n",
    "            self.clock = new_event.time\n",
    "            self.event_list.append(new_event)"
   ]
  },
  {
   "cell_type": "markdown",
   "metadata": {},
   "source": [
    "## 5. Simulation"
   ]
  },
  {
   "cell_type": "markdown",
   "metadata": {},
   "source": [
    "It is necessary to decide the number of iteration, the number of simulation per iteration, FCA scheme, total number of calls to be generated, and warm up period."
   ]
  },
  {
   "cell_type": "code",
   "execution_count": 26,
   "metadata": {},
   "outputs": [],
   "source": [
    "def simulate(number_of_iteration, number_of_simulation, scheme, total_calls, warm_up_period):\n",
    "    average_blocked_rate = []\n",
    "    average_dropped_rate = []\n",
    "    pass_count = 0\n",
    "    blocked_fail_count = 0\n",
    "    dropped_fail_count = 0\n",
    "    simul_num = 0\n",
    "    for iteration in range(number_of_iteration):\n",
    "        blocked_rate_list = []\n",
    "        dropped_rate_list = []\n",
    "        for i in range(number_of_simulation):\n",
    "            \n",
    "            # build a model with given parameter\n",
    "            model = Simulator(scheme, total_calls, warm_up_period)\n",
    "            \n",
    "            # generate new calls in the future event list\n",
    "            model.generate_new_calls()\n",
    "            \n",
    "            # simulate until the model fits the ending condition\n",
    "            while not(model.ending_condition()):\n",
    "                model.handle_event()\n",
    "            \n",
    "            # percentage of blocked calls is defined as the number of blocked calls divided by the total number of calls\n",
    "            # after the warm up period\n",
    "            blocked_rate = model.blocked_calls / model.new_calls * 100\n",
    "            blocked_rate_list.append(blocked_rate)\n",
    "            \n",
    "            # percentage of dropped calls is defined as the number of dropped calls divided by the total number of calls\n",
    "            # after the warm up period\n",
    "            dropped_rate = model.dropped_calls / model.new_calls * 100\n",
    "            dropped_rate_list.append(dropped_rate)\n",
    "            \n",
    "            # status = \"Pass\"\n",
    "            if blocked_rate < 2 and dropped_rate < 1:\n",
    "                pass_count += 1\n",
    "            # stuatus = \"Fail\"    \n",
    "            elif blocked_rate < 2 and dropped_rate >= 1:\n",
    "                dropped_fail_count += 1\n",
    "            # status = \"Fail\"\n",
    "            elif blocked_rate >= 2 and dropped_rate < 1:\n",
    "                blocked_fail_count += 1                \n",
    "            # status = \"Fail\"    \n",
    "            else:\n",
    "                blocked_fail_count += 1\n",
    "                dropped_fail_count += 1\n",
    "            simul_num+=1\n",
    "    \n",
    "        average_blocks = mean(blocked_rate_list)\n",
    "        average_blocked_rate.append(average_blocks)\n",
    "        average_drops = mean(dropped_rate_list)\n",
    "        average_dropped_rate.append(average_drops)\n",
    "        # print the average blocked rate, dropped rate from that iteration\n",
    "        print(\"Iteration %d complete. Blocked rate: %f%%, Dropped rate: %f%%\" %(iteration+1, average_blocks, average_drops))\n",
    "\n",
    "    print(\"----------------------------------------------------------------------\")\n",
    "    # print out the status(pass or fail)\n",
    "    print(\"Total number of simulation: {}\".format(simul_num))\n",
    "    print(\"Requirement fulfilled: {}\".format(pass_count))\n",
    "    print(\"Failed in fulfilling requirement for block: {}\".format(blocked_fail_count))\n",
    "    print(\"Failed in fulfilling requirement for drop: {}\".format(dropped_fail_count))\n",
    "    \n",
    "    \n",
    "    mean_block = np.mean(average_blocked_rate)\n",
    "    std_block = sqrt(stats.tvar(average_blocked_rate)) # use unbiased variance\n",
    "    mean_drop = np.mean(average_dropped_rate)\n",
    "    std_drop = sqrt(stats.tvar(average_dropped_rate))   # use unbiased variance\n",
    "    \n",
    "    # t value with alpha = 95% with dif. of (number_of_iteration - 1) divided by sqrt(number_of_iteration - 1)\n",
    "    t_value_divided = stats.t.ppf((1+0.95)/2, number_of_iteration-1) / sqrt(number_of_iteration - 1)\n",
    "    \n",
    "    # confidence interval\n",
    "    ci_block = (mean_block - t_value_divided * std_block, mean_block + t_value_divided * std_block)\n",
    "    ci_drop = (mean_drop - t_value_divided * std_drop, mean_drop + t_value_divided * std_drop)\n",
    "    print(\"----------------------Statistics----------------------\")\n",
    "    # print out stats\n",
    "    print(\"Block\")\n",
    "    print(\"Mean : {:.3f}%\".format(mean_block))\n",
    "    print(\"Std : {:.3f}%\".format(std_block))\n",
    "    print(\"95% confidence interval : {}\".format(ci_block))\n",
    "    print(\"Drop\")\n",
    "    print(\"Mean : {:.3f}%\".format(mean_drop))\n",
    "    print(\"Std : {:.3f}%\".format(std_drop))    \n",
    "    print(\"95% confidence interval : {}\".format(ci_drop))\n",
    "                    \n",
    "        \n",
    "                    "
   ]
  },
  {
   "cell_type": "code",
   "execution_count": 27,
   "metadata": {},
   "outputs": [
    {
     "name": "stdout",
     "output_type": "stream",
     "text": [
      "Iteration 1 complete. Blocked rate: 0.366414%, Dropped rate: 0.605678%\n",
      "Iteration 2 complete. Blocked rate: 0.353808%, Dropped rate: 0.535044%\n",
      "Iteration 3 complete. Blocked rate: 0.376815%, Dropped rate: 0.543145%\n",
      "Iteration 4 complete. Blocked rate: 0.341220%, Dropped rate: 0.569930%\n",
      "Iteration 5 complete. Blocked rate: 0.355377%, Dropped rate: 0.546518%\n",
      "Iteration 6 complete. Blocked rate: 0.346549%, Dropped rate: 0.585073%\n",
      "Iteration 7 complete. Blocked rate: 0.311902%, Dropped rate: 0.598842%\n",
      "Iteration 8 complete. Blocked rate: 0.361447%, Dropped rate: 0.591229%\n",
      "Iteration 9 complete. Blocked rate: 0.339992%, Dropped rate: 0.611101%\n",
      "Iteration 10 complete. Blocked rate: 0.429272%, Dropped rate: 0.589976%\n",
      "----------------------------------------------------------------------\n",
      "Total number of simulation: 100\n",
      "Requirement fulfilled: 100\n",
      "Failed in fulfilling requirement for block: 0\n",
      "Failed in fulfilling requirement for drop: 0\n",
      "----------------------Statistics----------------------\n",
      "Block\n",
      "Mean : 0.358%\n",
      "Std : 0.031%\n",
      "95% confidence interval : (0.3352397150583172, 0.38131890387892176)\n",
      "Drop\n",
      "Mean : 0.578%\n",
      "Std : 0.027%\n",
      "95% confidence interval : (0.5569575784173084, 0.5983497101930386)\n"
     ]
    }
   ],
   "source": [
    "simulate(number_of_iteration = 10, number_of_simulation = 10, scheme = FCA_scheme.NO_RESERVATION,\n",
    "         total_calls = 10000, warm_up_period = 1000)"
   ]
  },
  {
   "cell_type": "code",
   "execution_count": 28,
   "metadata": {},
   "outputs": [
    {
     "name": "stdout",
     "output_type": "stream",
     "text": [
      "Iteration 1 complete. Blocked rate: 1.073783%, Dropped rate: 0.349753%\n",
      "Iteration 2 complete. Blocked rate: 1.087229%, Dropped rate: 0.318126%\n",
      "Iteration 3 complete. Blocked rate: 1.200301%, Dropped rate: 0.360057%\n",
      "Iteration 4 complete. Blocked rate: 1.085256%, Dropped rate: 0.356772%\n",
      "Iteration 5 complete. Blocked rate: 1.098618%, Dropped rate: 0.336839%\n",
      "Iteration 6 complete. Blocked rate: 1.119039%, Dropped rate: 0.361514%\n",
      "Iteration 7 complete. Blocked rate: 1.091428%, Dropped rate: 0.334516%\n",
      "Iteration 8 complete. Blocked rate: 1.131188%, Dropped rate: 0.362665%\n",
      "Iteration 9 complete. Blocked rate: 1.069893%, Dropped rate: 0.341981%\n",
      "Iteration 10 complete. Blocked rate: 1.142855%, Dropped rate: 0.359556%\n",
      "----------------------------------------------------------------------\n",
      "Total number of simulation: 100\n",
      "Requirement fulfilled: 100\n",
      "Failed in fulfilling requirement for block: 0\n",
      "Failed in fulfilling requirement for drop: 0\n",
      "----------------------Statistics----------------------\n",
      "Block\n",
      "Mean : 1.110%\n",
      "Std : 0.040%\n",
      "95% confidence interval : (1.0799123895732783, 1.1400054743113266)\n",
      "Drop\n",
      "Mean : 0.348%\n",
      "Std : 0.015%\n",
      "95% confidence interval : (0.3369613732275319, 0.359394390464891)\n"
     ]
    }
   ],
   "source": [
    "simulate(number_of_iteration = 10, number_of_simulation = 10, scheme = FCA_scheme.ONE_RESERVATION,\n",
    "         total_calls = 10000, warm_up_period = 1000)"
   ]
  },
  {
   "cell_type": "code",
   "execution_count": 29,
   "metadata": {},
   "outputs": [
    {
     "name": "stdout",
     "output_type": "stream",
     "text": [
      "Iteration 1 complete. Blocked rate: 2.724669%, Dropped rate: 0.215653%\n",
      "Iteration 2 complete. Blocked rate: 2.752310%, Dropped rate: 0.216845%\n",
      "Iteration 3 complete. Blocked rate: 2.629506%, Dropped rate: 0.176976%\n",
      "Iteration 4 complete. Blocked rate: 2.528904%, Dropped rate: 0.177898%\n",
      "Iteration 5 complete. Blocked rate: 2.739787%, Dropped rate: 0.185873%\n",
      "Iteration 6 complete. Blocked rate: 2.577617%, Dropped rate: 0.153325%\n",
      "Iteration 7 complete. Blocked rate: 2.648416%, Dropped rate: 0.175817%\n",
      "Iteration 8 complete. Blocked rate: 2.814946%, Dropped rate: 0.162742%\n",
      "Iteration 9 complete. Blocked rate: 2.668993%, Dropped rate: 0.198452%\n",
      "Iteration 10 complete. Blocked rate: 2.808219%, Dropped rate: 0.169527%\n",
      "----------------------------------------------------------------------\n",
      "Total number of simulation: 100\n",
      "Requirement fulfilled: 0\n",
      "Failed in fulfilling requirement for block: 100\n",
      "Failed in fulfilling requirement for drop: 0\n",
      "----------------------Statistics----------------------\n",
      "Block\n",
      "Mean : 2.689%\n",
      "Std : 0.095%\n",
      "95% confidence interval : (2.617554990167624, 2.761118580591351)\n",
      "Drop\n",
      "Mean : 0.183%\n",
      "Std : 0.021%\n",
      "95% confidence interval : (0.16732646164998552, 0.19929502508293614)\n"
     ]
    }
   ],
   "source": [
    "simulate(number_of_iteration = 10, number_of_simulation = 10, scheme = FCA_scheme.TWO_RESERVATION,\n",
    "         total_calls = 10000, warm_up_period = 1000)"
   ]
  },
  {
   "cell_type": "code",
   "execution_count": 30,
   "metadata": {},
   "outputs": [
    {
     "name": "stdout",
     "output_type": "stream",
     "text": [
      "Iteration 1 complete. Blocked rate: 5.706824%, Dropped rate: 0.085251%\n",
      "Iteration 2 complete. Blocked rate: 5.622155%, Dropped rate: 0.096144%\n",
      "Iteration 3 complete. Blocked rate: 5.769753%, Dropped rate: 0.080847%\n",
      "Iteration 4 complete. Blocked rate: 5.528281%, Dropped rate: 0.089364%\n",
      "Iteration 5 complete. Blocked rate: 5.409834%, Dropped rate: 0.077748%\n",
      "Iteration 6 complete. Blocked rate: 5.717411%, Dropped rate: 0.086189%\n",
      "Iteration 7 complete. Blocked rate: 5.711233%, Dropped rate: 0.068015%\n",
      "Iteration 8 complete. Blocked rate: 5.506865%, Dropped rate: 0.066850%\n",
      "Iteration 9 complete. Blocked rate: 5.410857%, Dropped rate: 0.069043%\n",
      "Iteration 10 complete. Blocked rate: 5.470574%, Dropped rate: 0.090591%\n",
      "----------------------------------------------------------------------\n",
      "Total number of simulation: 100\n",
      "Requirement fulfilled: 0\n",
      "Failed in fulfilling requirement for block: 100\n",
      "Failed in fulfilling requirement for drop: 0\n",
      "----------------------Statistics----------------------\n",
      "Block\n",
      "Mean : 5.585%\n",
      "Std : 0.136%\n",
      "95% confidence interval : (5.482586968542703, 5.688170174085371)\n",
      "Drop\n",
      "Mean : 0.081%\n",
      "Std : 0.010%\n",
      "95% confidence interval : (0.07322177721828345, 0.08878673144584819)\n"
     ]
    }
   ],
   "source": [
    "simulate(number_of_iteration = 10, number_of_simulation = 10, scheme = FCA_scheme.THREE_RESERVATION,\n",
    "         total_calls = 10000, warm_up_period = 1000)"
   ]
  },
  {
   "cell_type": "code",
   "execution_count": null,
   "metadata": {},
   "outputs": [],
   "source": []
  }
 ],
 "metadata": {
  "kernelspec": {
   "display_name": "Python 3",
   "language": "python",
   "name": "python3"
  },
  "language_info": {
   "codemirror_mode": {
    "name": "ipython",
    "version": 3
   },
   "file_extension": ".py",
   "mimetype": "text/x-python",
   "name": "python",
   "nbconvert_exporter": "python",
   "pygments_lexer": "ipython3",
   "version": "3.7.6"
  }
 },
 "nbformat": 4,
 "nbformat_minor": 4
}
